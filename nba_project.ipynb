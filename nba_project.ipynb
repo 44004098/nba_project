{
 "cells": [
  {
   "cell_type": "markdown",
   "id": "2f5ea481-9a67-44aa-b135-693df4b5de46",
   "metadata": {},
   "source": [
    "# NBA Data Project\n",
    "\n",
    "*Student Myname*"
   ]
  },
  {
   "cell_type": "markdown",
   "id": "9c65f67d-8ed7-4966-b27a-4b97e0a507c3",
   "metadata": {},
   "source": [
    "## Preliminaries\n",
    "\n",
    "The dataset and its description are both in the `data` folder. For this project you'll need `numpy`, `pandas`, and either `matplotlib` or `seaborn` for visualization. \n",
    "\n",
    "In the next cell, make your imports and load the dataset:"
   ]
  },
  {
   "cell_type": "code",
   "execution_count": 7,
   "id": "774be476-f232-4228-8947-c811b52e77fc",
   "metadata": {},
   "outputs": [],
   "source": [
    "# Imports and loading the dataset\n"
   ]
  },
  {
   "cell_type": "markdown",
   "id": "3776c399-c252-4ba8-936f-6329402e209f",
   "metadata": {
    "tags": []
   },
   "source": [
    "## Exploration\n",
    "\n",
    "Use `.head()` and `.info()` to ensure that the data was loaded correctly and to get a feel for the data types in each column. Use `.describe()` to check whether or not there are any extreme values that don't make sense (*e.g. Can someone play negative minutes or score negative points? Can someone play a million minutes when there are only 48 minutes per game and 82 games in a season?*)"
   ]
  },
  {
   "cell_type": "code",
   "execution_count": 8,
   "id": "aaad3994-f74e-4991-9901-1aedd3cc238c",
   "metadata": {
    "tags": []
   },
   "outputs": [],
   "source": [
    "# Exploring the dataset\n"
   ]
  },
  {
   "cell_type": "markdown",
   "id": "ac10cbb1-f6df-48ac-8d4c-60cb2010c1a9",
   "metadata": {},
   "source": [
    "## Data Cleaning\n",
    "\n",
    "- The `Rk` and `Player-additional` columns won't be useful to us. Delete them.\n",
    "- There are several columns with null entries; deal with them appropriately:\n",
    "    - Is it reasonable for null entries to exist in these columns?\n",
    "    - Do we need to replace the null values with some other value?"
   ]
  },
  {
   "cell_type": "code",
   "execution_count": 9,
   "id": "e3289bb3-f44b-4752-9364-159f3a1f2cbf",
   "metadata": {
    "tags": []
   },
   "outputs": [],
   "source": [
    "# Cleaning the dataset\n"
   ]
  },
  {
   "cell_type": "markdown",
   "id": "e4a58876-6307-496b-b03c-183f3c92cd5e",
   "metadata": {},
   "source": [
    "## Data Augmentation"
   ]
  },
  {
   "cell_type": "markdown",
   "id": "592943a7-cfaf-4aef-8186-5f1d6f1e7a80",
   "metadata": {},
   "source": [
    "While the stats included in the dataset are useful for giving us a wide view of a player's contributions throughout the season, basketball fans and analysts have devised more advanced tools to more accurately quantify these contributions. You can look up any of these statistics to see how they're calculated\n",
    "\n",
    "Add the following statistics as new columns to the dataframe (suggested column name in parentheses):\n",
    "- Points per shot (PPS)\n",
    "- Points per possession (PPP)\n",
    "- True Shooting Percentage (TS%)\n",
    "- Free Throw Rate (FTR)\n",
    "- Assist-to-Turnover Ratio (ATO)\n",
    "- Hollinger Assist Ratio (hAST%)"
   ]
  },
  {
   "cell_type": "code",
   "execution_count": null,
   "id": "df8e845b-1b04-431b-aa63-2ec23962c7cb",
   "metadata": {},
   "outputs": [],
   "source": [
    "# Adding Additional Analytics\n"
   ]
  },
  {
   "cell_type": "markdown",
   "id": "c1efa7c9-784e-435b-8ab5-1c9305988629",
   "metadata": {},
   "source": [
    "### Team-Contextual Analytics\n",
    "Understanding a player's value in the context of their *team* is also an important consideration. For example, could a given player be scoring more points simply because they're playing next to a superstar who commands more defensive attention? Is a given center grabbing lots of defensive rebounds because they're skilled, or because their teammates are forcing more bad shots? The following statistics are a bit more difficult to calculate, but may yield better insight about a player's *context* within his team:\n",
    "\n",
    "- Rebound Rate (TRB%)\n",
    "- Usage Percentage (USG%)\n",
    "\n",
    "For these stats you'll need to calculate *team* totals. I recommend creating a pivot table called `team_totals` that aggregates the sum of each column in your original dataset on a per team basis. Then when you need to use a player's team totals, you can look at the appropriate row/column of the `team_totals` dataframe. "
   ]
  },
  {
   "cell_type": "code",
   "execution_count": 12,
   "id": "20d9276d-1704-44a5-9099-2fed3efc21ad",
   "metadata": {
    "tags": []
   },
   "outputs": [],
   "source": [
    "# Team-Contextual Analytics\n"
   ]
  },
  {
   "cell_type": "markdown",
   "id": "51799e83-4dce-4ad2-8629-f05682cc9351",
   "metadata": {
    "tags": []
   },
   "source": [
    "## Querying the Data"
   ]
  },
  {
   "cell_type": "markdown",
   "id": "b039cc97-0dd6-4efe-8ea2-554ad6238ba5",
   "metadata": {},
   "source": [
    "### Simple Lookups\n",
    "Display the top five players in the league for the following stats: minutes, points, free-throw attempts, 3-pointers made, and assists (For each of these statistics, number 1 should be the *biggest*). \n",
    "\n",
    "Do these lists make sense? (If you're not sure, check with a friend who's into basketball, they'll help!)"
   ]
  },
  {
   "cell_type": "code",
   "execution_count": null,
   "id": "075febd0-9420-4643-9c8e-32e4e0fbcb34",
   "metadata": {},
   "outputs": [],
   "source": []
  },
  {
   "cell_type": "markdown",
   "id": "95e8fbc2-9afa-48be-a5b7-5d33af380396",
   "metadata": {},
   "source": [
    "### More Complex Lookups\n",
    "\n",
    "- Print out the positions in order of highest average points per player to lowest points per player.\n",
    "- Repeat the previous question for average blocks per player, per position.\n",
    "- Determine the league's top scorers in terms of *points per minute* among players who have played at least half their team's total minutes. "
   ]
  },
  {
   "cell_type": "markdown",
   "id": "b5ba62f8-471e-4b06-afaa-27a051189836",
   "metadata": {},
   "source": []
  },
  {
   "cell_type": "markdown",
   "id": "c82c4692-8969-4fe8-9dab-ecf7a295fb4e",
   "metadata": {},
   "source": [
    "## Visualizing the Data"
   ]
  },
  {
   "cell_type": "markdown",
   "id": "389e881c-69a0-4512-a711-1c18e638b307",
   "metadata": {},
   "source": [
    "- Create a heatmap that shows the number of players in each *quintile* of points scored at each position (this should be a 5x5 heatmap)\n",
    "- Create a scatter plot that shows players' total points on the y axis vs minutes on the x axis. Draw a trendline fit to the data. What does that trendline represent?"
   ]
  },
  {
   "cell_type": "code",
   "execution_count": null,
   "id": "eb646b12-07a4-45d0-b701-d3c5d578af7a",
   "metadata": {},
   "outputs": [],
   "source": []
  }
 ],
 "metadata": {
  "kernelspec": {
   "display_name": "Python 3 (ipykernel)",
   "language": "python",
   "name": "python3"
  },
  "language_info": {
   "codemirror_mode": {
    "name": "ipython",
    "version": 3
   },
   "file_extension": ".py",
   "mimetype": "text/x-python",
   "name": "python",
   "nbconvert_exporter": "python",
   "pygments_lexer": "ipython3",
   "version": "3.10.3"
  }
 },
 "nbformat": 4,
 "nbformat_minor": 5
}
